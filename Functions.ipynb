{
 "cells": [
  {
   "cell_type": "code",
   "execution_count": 11,
   "id": "8eba062c-706f-49e6-8ffa-fe731d9dd83d",
   "metadata": {},
   "outputs": [
    {
     "data": {
      "text/plain": [
       "('Cassie', 800)"
      ]
     },
     "execution_count": 11,
     "metadata": {},
     "output_type": "execute_result"
    }
   ],
   "source": [
    "work_hours = [('Abby', 100), ('Cassie', 800), ('Jojo', 400)]\n",
    "def employee_check(work_hours):\n",
    "    current_max = -1\n",
    "    employee_of_the_month = ''\n",
    "    for employee,hours in work_hours:\n",
    "        if hours > current_max:\n",
    "            current_max = hours\n",
    "            employee_of_the_month = employee\n",
    "    return (employee_of_the_month, current_max)\n",
    "employee_check(work_hours)"
   ]
  },
  {
   "cell_type": "code",
   "execution_count": 35,
   "id": "5a6e563e-33dd-47e2-b41b-9b90f1c0c5bc",
   "metadata": {},
   "outputs": [
    {
     "data": {
      "text/plain": [
       "'hElLo'"
      ]
     },
     "execution_count": 35,
     "metadata": {},
     "output_type": "execute_result"
    }
   ],
   "source": [
    "def myfunc(string):\n",
    "    skyline = []\n",
    "    upper_case = False\n",
    "    for letter in string:\n",
    "        if upper_case:\n",
    "            skyline.append(letter.upper())\n",
    "        else:\n",
    "            skyline.append(letter.lower())\n",
    "        upper_case = not upper_case\n",
    "    return ''.join(skyline)\n",
    "myfunc('Hello')"
   ]
  },
  {
   "cell_type": "code",
   "execution_count": null,
   "id": "12dc1c56-7773-47b4-8b0b-af949e134675",
   "metadata": {},
   "outputs": [],
   "source": []
  }
 ],
 "metadata": {
  "kernelspec": {
   "display_name": "Python 3 (ipykernel)",
   "language": "python",
   "name": "python3"
  },
  "language_info": {
   "codemirror_mode": {
    "name": "ipython",
    "version": 3
   },
   "file_extension": ".py",
   "mimetype": "text/x-python",
   "name": "python",
   "nbconvert_exporter": "python",
   "pygments_lexer": "ipython3",
   "version": "3.11.7"
  }
 },
 "nbformat": 4,
 "nbformat_minor": 5
}
